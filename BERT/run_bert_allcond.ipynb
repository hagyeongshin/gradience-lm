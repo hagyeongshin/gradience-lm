{
 "cells": [
  {
   "cell_type": "code",
   "execution_count": 1,
   "metadata": {
    "collapsed": true
   },
   "outputs": [],
   "source": [
    "import torch\n",
    "from transformers import AutoTokenizer, AutoModelForMaskedLM\n",
    "from transformers import pipeline\n",
    "\n",
    "import csv\n",
    "import pandas as pd\n",
    "pd.options.display.max_rows = 100\n",
    "\n",
    "import pickle\n",
    "import math\n",
    "import numpy as np\n",
    "\n",
    "from collections import Counter\n",
    "from tqdm import tqdm\n",
    "\n",
    "from konlpy.tag import Kkma\n",
    "from konlpy.utils import pprint\n",
    "kkma = Kkma()"
   ]
  },
  {
   "cell_type": "code",
   "execution_count": 2,
   "metadata": {},
   "outputs": [
    {
     "name": "stderr",
     "output_type": "stream",
     "text": [
      "Some weights of the model checkpoint at kykim/bert-kor-base were not used when initializing BertForMaskedLM: ['cls.seq_relationship.weight', 'cls.seq_relationship.bias']\n",
      "- This IS expected if you are initializing BertForMaskedLM from the checkpoint of a model trained on another task or with another architecture (e.g. initializing a BertForSequenceClassification model from a BertForPreTraining model).\n",
      "- This IS NOT expected if you are initializing BertForMaskedLM from the checkpoint of a model that you expect to be exactly identical (initializing a BertForSequenceClassification model from a BertForSequenceClassification model).\n"
     ]
    }
   ],
   "source": [
    "#https://huggingface.co/kykim/bert-kor-base\n",
    "#model.eval() for model information\n",
    "\n",
    "tokenizer = AutoTokenizer.from_pretrained(\"kykim/bert-kor-base\")\n",
    "model = AutoModelForMaskedLM.from_pretrained(\"kykim/bert-kor-base\")"
   ]
  },
  {
   "cell_type": "code",
   "execution_count": 3,
   "metadata": {
    "collapsed": true
   },
   "outputs": [],
   "source": [
    "unmask = pipeline(task=\"fill-mask\", model=model, tokenizer=tokenizer, top_k=1)"
   ]
  },
  {
   "cell_type": "code",
   "execution_count": 4,
   "metadata": {
    "collapsed": true
   },
   "outputs": [],
   "source": [
    "def main(filename):\n",
    "    data_path = \"{FILE}.csv\".format(FILE=filename)\n",
    "    vocab_dict = pd.read_pickle('vocab_pos_df.pickle').set_index('token').to_dict()['pos']\n",
    "    inputs = pd.read_csv(data_path)\n",
    "    \n",
    "    output = []\n",
    "    \n",
    "    with tqdm(total=inputs.shape[0]) as pbar:\n",
    "        for index, row in inputs.iterrows():\n",
    "            \n",
    "            sentence = row['Item']\n",
    "            responses = unmask(sentence)\n",
    "            \n",
    "            for d in responses:\n",
    "                for item in range(len(responses)):                \n",
    "                    for v in vocab_dict:\n",
    "                        if responses[item]['token_str'] == v:\n",
    "                            responses[item]['pos'] = vocab_dict[v]\n",
    "                            \n",
    "            output.append(responses)\n",
    "            \n",
    "            pbar.update(1)\n",
    "    \n",
    "    pickle.dump(output, open(\"{TASK}_output.csv\".format(TASK=filename), 'wb'))\n",
    "    \n",
    "    return output"
   ]
  },
  {
   "cell_type": "code",
   "execution_count": 5,
   "metadata": {},
   "outputs": [
    {
     "name": "stderr",
     "output_type": "stream",
     "text": [
      "100%|█████████████████████████████████████████| 360/360 [00:48<00:00,  7.42it/s]\n"
     ]
    }
   ],
   "source": [
    "output = main(\"3cond_bert\")"
   ]
  },
  {
   "cell_type": "code",
   "execution_count": 6,
   "metadata": {},
   "outputs": [
    {
     "data": {
      "text/plain": [
       "360"
      ]
     },
     "execution_count": 6,
     "metadata": {},
     "output_type": "execute_result"
    }
   ],
   "source": [
    "len(output)"
   ]
  }
 ],
 "metadata": {
  "kernelspec": {
   "display_name": "env",
   "language": "python",
   "name": "env"
  },
  "language_info": {
   "codemirror_mode": {
    "name": "ipython",
    "version": 3
   },
   "file_extension": ".py",
   "mimetype": "text/x-python",
   "name": "python",
   "nbconvert_exporter": "python",
   "pygments_lexer": "ipython3",
   "version": "3.10.4"
  }
 },
 "nbformat": 4,
 "nbformat_minor": 2
}
