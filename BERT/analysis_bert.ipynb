{
 "cells": [
  {
   "cell_type": "code",
   "execution_count": 1,
   "metadata": {
    "collapsed": true
   },
   "outputs": [],
   "source": [
    "import pandas as pd\n",
    "import pickle\n",
    "import csv\n",
    "import math"
   ]
  },
  {
   "cell_type": "code",
   "execution_count": 22,
   "metadata": {},
   "outputs": [],
   "source": [
    "bert_top1 = pd.read_csv('3cond_bert_output.csv', index_col=None)  "
   ]
  },
  {
   "cell_type": "code",
   "execution_count": 23,
   "metadata": {},
   "outputs": [
    {
     "data": {
      "text/html": [
       "<div>\n",
       "<style scoped>\n",
       "    .dataframe tbody tr th:only-of-type {\n",
       "        vertical-align: middle;\n",
       "    }\n",
       "\n",
       "    .dataframe tbody tr th {\n",
       "        vertical-align: top;\n",
       "    }\n",
       "\n",
       "    .dataframe thead th {\n",
       "        text-align: right;\n",
       "    }\n",
       "</style>\n",
       "<table border=\"1\" class=\"dataframe\">\n",
       "  <thead>\n",
       "    <tr style=\"text-align: right;\">\n",
       "      <th></th>\n",
       "      <th>Unnamed: 0</th>\n",
       "      <th>Idx</th>\n",
       "      <th>Lexicalization</th>\n",
       "      <th>Condition</th>\n",
       "      <th>Condition name</th>\n",
       "      <th>Item</th>\n",
       "      <th>text</th>\n",
       "      <th>pos</th>\n",
       "      <th>prob</th>\n",
       "      <th>surprisal</th>\n",
       "    </tr>\n",
       "  </thead>\n",
       "  <tbody>\n",
       "    <tr>\n",
       "      <th>0</th>\n",
       "      <td>0</td>\n",
       "      <td>0</td>\n",
       "      <td>1</td>\n",
       "      <td>1</td>\n",
       "      <td>nc-nom</td>\n",
       "      <td>지은이 사실을 [MASK].</td>\n",
       "      <td>밝혔다</td>\n",
       "      <td>[('밝히', 'VV'), ('었', 'EPT'), ('다', 'EFN')]</td>\n",
       "      <td>0.103494</td>\n",
       "      <td>3.272378</td>\n",
       "    </tr>\n",
       "    <tr>\n",
       "      <th>1</th>\n",
       "      <td>1</td>\n",
       "      <td>1</td>\n",
       "      <td>2</td>\n",
       "      <td>1</td>\n",
       "      <td>nc-nom</td>\n",
       "      <td>호준이 용돈을 [MASK].</td>\n",
       "      <td>.</td>\n",
       "      <td>[('.', 'SF')]</td>\n",
       "      <td>0.179533</td>\n",
       "      <td>2.477681</td>\n",
       "    </tr>\n",
       "    <tr>\n",
       "      <th>2</th>\n",
       "      <td>2</td>\n",
       "      <td>2</td>\n",
       "      <td>3</td>\n",
       "      <td>1</td>\n",
       "      <td>nc-nom</td>\n",
       "      <td>은지가 불을 [MASK].</td>\n",
       "      <td>끈다</td>\n",
       "      <td>[('끄', 'VV'), ('ㄴ다', 'EFN')]</td>\n",
       "      <td>0.117682</td>\n",
       "      <td>3.087038</td>\n",
       "    </tr>\n",
       "    <tr>\n",
       "      <th>3</th>\n",
       "      <td>3</td>\n",
       "      <td>3</td>\n",
       "      <td>4</td>\n",
       "      <td>1</td>\n",
       "      <td>nc-nom</td>\n",
       "      <td>용준이 마중을 [MASK].</td>\n",
       "      <td>나왔어요</td>\n",
       "      <td>[('나오', 'VV'), ('았', 'EPT'), ('어요', 'EFN')]</td>\n",
       "      <td>0.165672</td>\n",
       "      <td>2.593596</td>\n",
       "    </tr>\n",
       "    <tr>\n",
       "      <th>4</th>\n",
       "      <td>4</td>\n",
       "      <td>4</td>\n",
       "      <td>5</td>\n",
       "      <td>1</td>\n",
       "      <td>nc-nom</td>\n",
       "      <td>은영이 저녁을 [MASK].</td>\n",
       "      <td>먹는다</td>\n",
       "      <td>[('먹', 'VV'), ('는', 'EPT'), ('다', 'EFN')]</td>\n",
       "      <td>0.252464</td>\n",
       "      <td>1.985851</td>\n",
       "    </tr>\n",
       "    <tr>\n",
       "      <th>...</th>\n",
       "      <td>...</td>\n",
       "      <td>...</td>\n",
       "      <td>...</td>\n",
       "      <td>...</td>\n",
       "      <td>...</td>\n",
       "      <td>...</td>\n",
       "      <td>...</td>\n",
       "      <td>...</td>\n",
       "      <td>...</td>\n",
       "      <td>...</td>\n",
       "    </tr>\n",
       "    <tr>\n",
       "      <th>355</th>\n",
       "      <td>355</td>\n",
       "      <td>355</td>\n",
       "      <td>56</td>\n",
       "      <td>6</td>\n",
       "      <td>nom-to</td>\n",
       "      <td>경희가 잘못을 일삼았다. 규호도 잘못을 [MASK].</td>\n",
       "      <td>했다</td>\n",
       "      <td>[('하', 'VV'), ('었', 'EPT'), ('다', 'EFN')]</td>\n",
       "      <td>0.665108</td>\n",
       "      <td>0.588340</td>\n",
       "    </tr>\n",
       "    <tr>\n",
       "      <th>356</th>\n",
       "      <td>356</td>\n",
       "      <td>356</td>\n",
       "      <td>57</td>\n",
       "      <td>6</td>\n",
       "      <td>nom-to</td>\n",
       "      <td>호영이 싸움을 일으켰다. 은주도 싸움을 [MASK].</td>\n",
       "      <td>일어났다</td>\n",
       "      <td>[('일어나', 'VV'), ('었', 'EPT'), ('다', 'EFN')]</td>\n",
       "      <td>0.554497</td>\n",
       "      <td>0.850748</td>\n",
       "    </tr>\n",
       "    <tr>\n",
       "      <th>357</th>\n",
       "      <td>357</td>\n",
       "      <td>357</td>\n",
       "      <td>58</td>\n",
       "      <td>6</td>\n",
       "      <td>nom-to</td>\n",
       "      <td>미진이 지갑을 잃었다. 윤호도 지갑을 [MASK].</td>\n",
       "      <td>찾았다</td>\n",
       "      <td>[('찾', 'VV'), ('았', 'EPT'), ('다', 'EFN')]</td>\n",
       "      <td>0.519524</td>\n",
       "      <td>0.944737</td>\n",
       "    </tr>\n",
       "    <tr>\n",
       "      <th>358</th>\n",
       "      <td>358</td>\n",
       "      <td>358</td>\n",
       "      <td>59</td>\n",
       "      <td>6</td>\n",
       "      <td>nom-to</td>\n",
       "      <td>두호가 약속을 잊었다. 하원도 약속을 [MASK].</td>\n",
       "      <td>했다</td>\n",
       "      <td>[('하', 'VV'), ('었', 'EPT'), ('다', 'EFN')]</td>\n",
       "      <td>0.505473</td>\n",
       "      <td>0.984295</td>\n",
       "    </tr>\n",
       "    <tr>\n",
       "      <th>359</th>\n",
       "      <td>359</td>\n",
       "      <td>359</td>\n",
       "      <td>60</td>\n",
       "      <td>6</td>\n",
       "      <td>nom-to</td>\n",
       "      <td>호섭이 문제를 제기했다. 윤아도 문제를 [MASK].</td>\n",
       "      <td>제기</td>\n",
       "      <td>[('제기', 'NNG')]</td>\n",
       "      <td>0.538661</td>\n",
       "      <td>0.892552</td>\n",
       "    </tr>\n",
       "  </tbody>\n",
       "</table>\n",
       "<p>360 rows × 10 columns</p>\n",
       "</div>"
      ],
      "text/plain": [
       "     Unnamed: 0  Idx  Lexicalization  Condition Condition name  \\\n",
       "0             0    0               1          1         nc-nom   \n",
       "1             1    1               2          1         nc-nom   \n",
       "2             2    2               3          1         nc-nom   \n",
       "3             3    3               4          1         nc-nom   \n",
       "4             4    4               5          1         nc-nom   \n",
       "..          ...  ...             ...        ...            ...   \n",
       "355         355  355              56          6         nom-to   \n",
       "356         356  356              57          6         nom-to   \n",
       "357         357  357              58          6         nom-to   \n",
       "358         358  358              59          6         nom-to   \n",
       "359         359  359              60          6         nom-to   \n",
       "\n",
       "                              Item  text  \\\n",
       "0                  지은이 사실을 [MASK].   밝혔다   \n",
       "1                  호준이 용돈을 [MASK].     .   \n",
       "2                   은지가 불을 [MASK].    끈다   \n",
       "3                  용준이 마중을 [MASK].  나왔어요   \n",
       "4                  은영이 저녁을 [MASK].   먹는다   \n",
       "..                             ...   ...   \n",
       "355  경희가 잘못을 일삼았다. 규호도 잘못을 [MASK].    했다   \n",
       "356  호영이 싸움을 일으켰다. 은주도 싸움을 [MASK].  일어났다   \n",
       "357   미진이 지갑을 잃었다. 윤호도 지갑을 [MASK].   찾았다   \n",
       "358   두호가 약속을 잊었다. 하원도 약속을 [MASK].    했다   \n",
       "359  호섭이 문제를 제기했다. 윤아도 문제를 [MASK].    제기   \n",
       "\n",
       "                                             pos      prob  surprisal  \n",
       "0     [('밝히', 'VV'), ('었', 'EPT'), ('다', 'EFN')]  0.103494   3.272378  \n",
       "1                                  [('.', 'SF')]  0.179533   2.477681  \n",
       "2                   [('끄', 'VV'), ('ㄴ다', 'EFN')]  0.117682   3.087038  \n",
       "3    [('나오', 'VV'), ('았', 'EPT'), ('어요', 'EFN')]  0.165672   2.593596  \n",
       "4      [('먹', 'VV'), ('는', 'EPT'), ('다', 'EFN')]  0.252464   1.985851  \n",
       "..                                           ...       ...        ...  \n",
       "355    [('하', 'VV'), ('었', 'EPT'), ('다', 'EFN')]  0.665108   0.588340  \n",
       "356  [('일어나', 'VV'), ('었', 'EPT'), ('다', 'EFN')]  0.554497   0.850748  \n",
       "357    [('찾', 'VV'), ('았', 'EPT'), ('다', 'EFN')]  0.519524   0.944737  \n",
       "358    [('하', 'VV'), ('었', 'EPT'), ('다', 'EFN')]  0.505473   0.984295  \n",
       "359                              [('제기', 'NNG')]  0.538661   0.892552  \n",
       "\n",
       "[360 rows x 10 columns]"
      ]
     },
     "execution_count": 23,
     "metadata": {},
     "output_type": "execute_result"
    }
   ],
   "source": [
    "bert_top1"
   ]
  },
  {
   "cell_type": "code",
   "execution_count": 10,
   "metadata": {
    "collapsed": true
   },
   "outputs": [],
   "source": [
    "def filterverb(item):\n",
    "    score = []\n",
    "    for i in range(len(item)):\n",
    "        for j in range(len(item[i]['pos'])):\n",
    "            if item[i]['pos'][j] in verbs:\n",
    "                score.append(item[i]['score'])\n",
    "                break\n",
    "    return sum(score)"
   ]
  },
  {
   "cell_type": "code",
   "execution_count": null,
   "metadata": {
    "collapsed": true
   },
   "outputs": [],
   "source": [
    "def filtercontrast"
   ]
  },
  {
   "cell_type": "code",
   "execution_count": null,
   "metadata": {
    "collapsed": true
   },
   "outputs": [],
   "source": [
    "def filtercontrastverb"
   ]
  },
  {
   "cell_type": "code",
   "execution_count": 26,
   "metadata": {},
   "outputs": [],
   "source": [
    "with open('3cond_bert_topk5_output.pickle', 'rb') as fp:\n",
    "    bert_all = pickle.load(fp)"
   ]
  },
  {
   "cell_type": "code",
   "execution_count": 28,
   "metadata": {},
   "outputs": [
    {
     "data": {
      "text/plain": [
       "360"
      ]
     },
     "execution_count": 28,
     "metadata": {},
     "output_type": "execute_result"
    }
   ],
   "source": [
    "len(bert_all)"
   ]
  },
  {
   "cell_type": "code",
   "execution_count": 29,
   "metadata": {},
   "outputs": [
    {
     "data": {
      "text/plain": [
       "5"
      ]
     },
     "execution_count": 29,
     "metadata": {},
     "output_type": "execute_result"
    }
   ],
   "source": [
    "len(bert_all[0])"
   ]
  },
  {
   "cell_type": "code",
   "execution_count": 31,
   "metadata": {},
   "outputs": [
    {
     "data": {
      "text/plain": [
       "[{'score': 0.1795327514410019,\n",
       "  'token': 2016,\n",
       "  'token_str': '.',\n",
       "  'sequence': '호준이 용돈을..',\n",
       "  'pos': [('.', 'SF')]},\n",
       " {'score': 0.08285371214151382,\n",
       "  'token': 17030,\n",
       "  'token_str': '받았다',\n",
       "  'sequence': '호준이 용돈을 받았다.',\n",
       "  'pos': [('받', 'VV'), ('았', 'EPT'), ('다', 'EFN')]},\n",
       " {'score': 0.05355287343263626,\n",
       "  'token': 17768,\n",
       "  'token_str': '준다',\n",
       "  'sequence': '호준이 용돈을 준다.',\n",
       "  'pos': [('주', 'VV'), ('ㄴ다', 'EFN')]},\n",
       " {'score': 0.04925976321101189,\n",
       "  'token': 20675,\n",
       "  'token_str': '받았어요',\n",
       "  'sequence': '호준이 용돈을 받았어요.',\n",
       "  'pos': [('받', 'VV'), ('았', 'EPT'), ('어요', 'EFN')]},\n",
       " {'score': 0.03741389513015747,\n",
       "  'token': 25055,\n",
       "  'token_str': '썼다',\n",
       "  'sequence': '호준이 용돈을 썼다.',\n",
       "  'pos': [('쓰', 'VV'), ('었', 'EPT'), ('다', 'EFN')]}]"
      ]
     },
     "execution_count": 31,
     "metadata": {},
     "output_type": "execute_result"
    }
   ],
   "source": [
    "bert_all[0]"
   ]
  },
  {
   "cell_type": "code",
   "execution_count": 35,
   "metadata": {
    "collapsed": true
   },
   "outputs": [],
   "source": [
    "with open('verbroot.pickle', 'rb') as fp:\n",
    "    verbs = pickle.load(fp)"
   ]
  },
  {
   "cell_type": "code",
   "execution_count": 36,
   "metadata": {
    "collapsed": true
   },
   "outputs": [],
   "source": [
    "def verbscore(item):\n",
    "    score = []\n",
    "    for i in range(len(item)):\n",
    "        for j in range(len(item[i]['pos'])):\n",
    "            if item[i]['pos'][j] in verbs:\n",
    "                score.append(item[i]['score'])\n",
    "                break\n",
    "    return sum(score)"
   ]
  },
  {
   "cell_type": "code",
   "execution_count": 37,
   "metadata": {
    "collapsed": true
   },
   "outputs": [],
   "source": [
    "def verbscoredict(condition):\n",
    "    verb_score_dict = {}\n",
    "    for i in range(len(condition)):\n",
    "        verb_score_dict[i] = verbscore(condition[i])\n",
    "    return verb_score_dict"
   ]
  },
  {
   "cell_type": "code",
   "execution_count": 38,
   "metadata": {},
   "outputs": [
    {
     "data": {
      "text/plain": [
       "0.31897057220339775"
      ]
     },
     "execution_count": 38,
     "metadata": {},
     "output_type": "execute_result"
    }
   ],
   "source": [
    "verbscore(bert_all[0])"
   ]
  },
  {
   "cell_type": "code",
   "execution_count": null,
   "metadata": {
    "collapsed": true
   },
   "outputs": [],
   "source": []
  }
 ],
 "metadata": {
  "kernelspec": {
   "display_name": "env",
   "language": "python",
   "name": "env"
  },
  "language_info": {
   "codemirror_mode": {
    "name": "ipython",
    "version": 3
   },
   "file_extension": ".py",
   "mimetype": "text/x-python",
   "name": "python",
   "nbconvert_exporter": "python",
   "pygments_lexer": "ipython3",
   "version": "3.10.4"
  }
 },
 "nbformat": 4,
 "nbformat_minor": 2
}
